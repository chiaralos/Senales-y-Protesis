{
  "nbformat": 4,
  "nbformat_minor": 0,
  "metadata": {
    "colab": {
      "private_outputs": true,
      "provenance": [],
      "authorship_tag": "ABX9TyPaQEjSt8T9+7JC/1zXME2s",
      "include_colab_link": true
    },
    "kernelspec": {
      "name": "python3",
      "display_name": "Python 3"
    },
    "language_info": {
      "name": "python"
    }
  },
  "cells": [
    {
      "cell_type": "markdown",
      "metadata": {
        "id": "view-in-github",
        "colab_type": "text"
      },
      "source": [
        "<a href=\"https://colab.research.google.com/github/chiaralos/Senales-y-Protesis/blob/main/Se%C3%B1ales_y_Protes%C3%ADs.ipynb\" target=\"_parent\"><img src=\"https://colab.research.google.com/assets/colab-badge.svg\" alt=\"Open In Colab\"/></a>"
      ]
    },
    {
      "cell_type": "code",
      "source": [
        "!pip install mne"
      ],
      "metadata": {
        "id": "dGJxbjTPoEjc"
      },
      "execution_count": null,
      "outputs": []
    },
    {
      "cell_type": "code",
      "execution_count": null,
      "metadata": {
        "id": "FUpSjCPFMHSV"
      },
      "outputs": [],
      "source": [
        "from glob import glob\n",
        "import os\n",
        "import mne\n",
        "import numpy as np\n",
        "import pandas as pd\n",
        "import matplotlib.pyplot as plt"
      ]
    },
    {
      "cell_type": "code",
      "source": [
        "!git clone   https://github.com/chiaralos/Senales-y-Protesis.git"
      ],
      "metadata": {
        "id": "vdyGBcK0XKhR"
      },
      "execution_count": null,
      "outputs": []
    },
    {
      "cell_type": "code",
      "source": [
        "all_file_path= glob('/content/Senales-y-Protesis/eeg-during-mental-arithmetic-tasks-/*.edf')\n",
        "print(len(all_file_path))"
      ],
      "metadata": {
        "id": "r9xgPwkRTtrx"
      },
      "execution_count": null,
      "outputs": []
    },
    {
      "cell_type": "code",
      "source": [
        "all_file_path[0]"
      ],
      "metadata": {
        "id": "iH7Xo7kuZDGA"
      },
      "execution_count": null,
      "outputs": []
    },
    {
      "cell_type": "code",
      "source": [
        "before_file_path = [i for i in all_file_path if '_1' in i.split('/')[4]]\n",
        "during_file_path = [i for i in all_file_path if '_2' in i.split('/')[4]]\n",
        "print(len(before_file_path), len(during_file_path))"
      ],
      "metadata": {
        "id": "FdoAAkL5YHxY"
      },
      "execution_count": null,
      "outputs": []
    },
    {
      "cell_type": "code",
      "source": [
        "def read_Data(file_path):\n",
        "    data = mne.io.read_raw_edf(file_path, preload=True)\n",
        "    data.set_eeg_reference()\n",
        "    data.filter(l_freq = 0.5, h_freq = 45)\n",
        "    epochs = mne.make_fixed_length_epochs(data,duration=5,overlap=1)\n",
        "    array = epochs.get_data()\n",
        "    return array"
      ],
      "metadata": {
        "id": "bldTN6caZ7tC"
      },
      "execution_count": null,
      "outputs": []
    },
    {
      "cell_type": "code",
      "source": [
        "sample_data = read_Data(before_file_path[0])"
      ],
      "metadata": {
        "id": "gsF_fEPgbcyK"
      },
      "execution_count": null,
      "outputs": []
    },
    {
      "cell_type": "code",
      "source": [
        "sample_data.shape #no of epochs, canales, lenght of signal"
      ],
      "metadata": {
        "id": "uJNYXaMobvT7"
      },
      "execution_count": null,
      "outputs": []
    },
    {
      "cell_type": "code",
      "source": [
        "%%capture\n",
        "control_epochs_array = [read_Data(i) for i in before_file_path]\n",
        "during_epochs_array = [read_Data(i) for i in during_file_path]"
      ],
      "metadata": {
        "id": "vsJiLfD-cDnm"
      },
      "execution_count": null,
      "outputs": []
    },
    {
      "cell_type": "code",
      "source": [
        "control_epochs_array[0].shape, control_epochs_array[1].shape"
      ],
      "metadata": {
        "id": "gNjwZ5zAcjVf"
      },
      "execution_count": null,
      "outputs": []
    },
    {
      "cell_type": "code",
      "source": [
        "control_epochs_labels = [len(i)*[0] for i in before_file_path]\n",
        "during_epochs_labels = [len(i)*[1] for i in during_file_path]\n",
        "len(control_epochs_labels), len(during_epochs_labels)"
      ],
      "metadata": {
        "id": "47NGR36UcxeL"
      },
      "execution_count": null,
      "outputs": []
    },
    {
      "cell_type": "code",
      "source": [
        "data_list=control_epochs_array+during_epochs_array\n",
        "label_list=control_epochs_labels+during_epochs_labels\n",
        "print(len(data_list),len(label_list))"
      ],
      "metadata": {
        "id": "i_K9XSbIcrP9"
      },
      "execution_count": null,
      "outputs": []
    },
    {
      "cell_type": "code",
      "source": [
        "group_list = [[i]*len(j) for i,j in enumerate(data_list)]"
      ],
      "metadata": {
        "id": "mKvi90ncdjzu"
      },
      "execution_count": null,
      "outputs": []
    },
    {
      "cell_type": "code",
      "source": [
        "data_array=np.vstack(data_list)\n",
        "label_array=np.hstack(label_list)\n",
        "group_array=np.hstack(group_list)\n",
        "print(data_array.shape,label_array.shape,group_array.shape)"
      ],
      "metadata": {
        "id": "XEl0t_9neSjT"
      },
      "execution_count": null,
      "outputs": []
    }
  ]
}