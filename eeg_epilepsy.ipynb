{
  "nbformat": 4,
  "nbformat_minor": 0,
  "metadata": {
    "colab": {
      "provenance": [],
      "include_colab_link": true
    },
    "kernelspec": {
      "name": "python3",
      "display_name": "Python 3"
    },
    "language_info": {
      "name": "python"
    }
  },
  "cells": [
    {
      "cell_type": "markdown",
      "metadata": {
        "id": "view-in-github",
        "colab_type": "text"
      },
      "source": [
        "<a href=\"https://colab.research.google.com/github/chiaralos/Senales-y-Protesis/blob/main/eeg_epilepsy.ipynb\" target=\"_parent\"><img src=\"https://colab.research.google.com/assets/colab-badge.svg\" alt=\"Open In Colab\"/></a>"
      ]
    },
    {
      "cell_type": "markdown",
      "source": [
        "# Install MNE package"
      ],
      "metadata": {
        "id": "JEUKe9LBPPAC"
      }
    },
    {
      "cell_type": "code",
      "source": [
        "!pip install mne"
      ],
      "metadata": {
        "id": "lvebAo_jXlcE",
        "colab": {
          "base_uri": "https://localhost:8080/"
        },
        "outputId": "b65ba4c1-b003-467a-9825-07d2d9617bc4"
      },
      "execution_count": 18,
      "outputs": [
        {
          "output_type": "stream",
          "name": "stdout",
          "text": [
            "Looking in indexes: https://pypi.org/simple, https://us-python.pkg.dev/colab-wheels/public/simple/\n",
            "Requirement already satisfied: mne in /usr/local/lib/python3.9/dist-packages (1.3.1)\n",
            "Requirement already satisfied: pooch>=1.5 in /usr/local/lib/python3.9/dist-packages (from mne) (1.7.0)\n",
            "Requirement already satisfied: scipy>=1.1.0 in /usr/local/lib/python3.9/dist-packages (from mne) (1.10.1)\n",
            "Requirement already satisfied: tqdm in /usr/local/lib/python3.9/dist-packages (from mne) (4.65.0)\n",
            "Requirement already satisfied: jinja2 in /usr/local/lib/python3.9/dist-packages (from mne) (3.1.2)\n",
            "Requirement already satisfied: packaging in /usr/local/lib/python3.9/dist-packages (from mne) (23.0)\n",
            "Requirement already satisfied: decorator in /usr/local/lib/python3.9/dist-packages (from mne) (4.4.2)\n",
            "Requirement already satisfied: numpy>=1.15.4 in /usr/local/lib/python3.9/dist-packages (from mne) (1.22.4)\n",
            "Requirement already satisfied: matplotlib in /usr/local/lib/python3.9/dist-packages (from mne) (3.7.1)\n",
            "Requirement already satisfied: requests>=2.19.0 in /usr/local/lib/python3.9/dist-packages (from pooch>=1.5->mne) (2.27.1)\n",
            "Requirement already satisfied: platformdirs>=2.5.0 in /usr/local/lib/python3.9/dist-packages (from pooch>=1.5->mne) (3.1.1)\n",
            "Requirement already satisfied: MarkupSafe>=2.0 in /usr/local/lib/python3.9/dist-packages (from jinja2->mne) (2.1.2)\n",
            "Requirement already satisfied: fonttools>=4.22.0 in /usr/local/lib/python3.9/dist-packages (from matplotlib->mne) (4.39.0)\n",
            "Requirement already satisfied: pillow>=6.2.0 in /usr/local/lib/python3.9/dist-packages (from matplotlib->mne) (8.4.0)\n",
            "Requirement already satisfied: pyparsing>=2.3.1 in /usr/local/lib/python3.9/dist-packages (from matplotlib->mne) (3.0.9)\n",
            "Requirement already satisfied: importlib-resources>=3.2.0 in /usr/local/lib/python3.9/dist-packages (from matplotlib->mne) (5.12.0)\n",
            "Requirement already satisfied: python-dateutil>=2.7 in /usr/local/lib/python3.9/dist-packages (from matplotlib->mne) (2.8.2)\n",
            "Requirement already satisfied: contourpy>=1.0.1 in /usr/local/lib/python3.9/dist-packages (from matplotlib->mne) (1.0.7)\n",
            "Requirement already satisfied: kiwisolver>=1.0.1 in /usr/local/lib/python3.9/dist-packages (from matplotlib->mne) (1.4.4)\n",
            "Requirement already satisfied: cycler>=0.10 in /usr/local/lib/python3.9/dist-packages (from matplotlib->mne) (0.11.0)\n",
            "Requirement already satisfied: zipp>=3.1.0 in /usr/local/lib/python3.9/dist-packages (from importlib-resources>=3.2.0->matplotlib->mne) (3.15.0)\n",
            "Requirement already satisfied: six>=1.5 in /usr/local/lib/python3.9/dist-packages (from python-dateutil>=2.7->matplotlib->mne) (1.15.0)\n",
            "Requirement already satisfied: idna<4,>=2.5 in /usr/local/lib/python3.9/dist-packages (from requests>=2.19.0->pooch>=1.5->mne) (3.4)\n",
            "Requirement already satisfied: charset-normalizer~=2.0.0 in /usr/local/lib/python3.9/dist-packages (from requests>=2.19.0->pooch>=1.5->mne) (2.0.12)\n",
            "Requirement already satisfied: certifi>=2017.4.17 in /usr/local/lib/python3.9/dist-packages (from requests>=2.19.0->pooch>=1.5->mne) (2022.12.7)\n",
            "Requirement already satisfied: urllib3<1.27,>=1.21.1 in /usr/local/lib/python3.9/dist-packages (from requests>=2.19.0->pooch>=1.5->mne) (1.26.15)\n"
          ]
        }
      ]
    },
    {
      "cell_type": "markdown",
      "source": [
        "# Download data"
      ],
      "metadata": {
        "id": "rl3lgqAxPRtl"
      }
    },
    {
      "cell_type": "markdown",
      "source": [
        "* Read the [paper](https://www.biorxiv.org/content/10.1101/324954v1  ) to understand data.\n",
        "* Datasets were collected using EMOTIVE with the 128 Hz sampling frequency.   \n",
        "* There are two differnt dataset collected in Guinea Bissau (97 subjects) and Nigeria (112 subjects).  \n",
        "* Here we are dealing with data collected in Guinea Bissau"
      ],
      "metadata": {
        "id": "O3AwG_JlRVZ-"
      }
    },
    {
      "cell_type": "code",
      "execution_count": 2,
      "metadata": {
        "colab": {
          "base_uri": "https://localhost:8080/"
        },
        "id": "0sw2_4m7UlCq",
        "outputId": "4a7f2d5f-4d4c-45ae-cf5a-08260c932d9b"
      },
      "outputs": [
        {
          "output_type": "stream",
          "name": "stdout",
          "text": [
            "--2023-03-19 23:58:51--  https://zenodo.org/record/1252141/files/EEGs_Guinea-Bissau.zip\n",
            "Resolving zenodo.org (zenodo.org)... 188.185.124.72\n",
            "Connecting to zenodo.org (zenodo.org)|188.185.124.72|:443... connected.\n",
            "HTTP request sent, awaiting response... 200 OK\n",
            "Length: 153973086 (147M) [application/octet-stream]\n",
            "Saving to: ‘EEGs_Guinea-Bissau.zip’\n",
            "\n",
            "EEGs_Guinea-Bissau. 100%[===================>] 146.84M  18.3MB/s    in 9.4s    \n",
            "\n",
            "2023-03-19 23:59:02 (15.7 MB/s) - ‘EEGs_Guinea-Bissau.zip’ saved [153973086/153973086]\n",
            "\n"
          ]
        }
      ],
      "source": [
        "!wget https://zenodo.org/record/1252141/files/EEGs_Guinea-Bissau.zip"
      ]
    },
    {
      "cell_type": "markdown",
      "source": [
        "# Unzip the data"
      ],
      "metadata": {
        "id": "0dTIQ9mbPThA"
      }
    },
    {
      "cell_type": "code",
      "source": [
        "#unzip the files\n",
        "from zipfile import ZipFile \n",
        "data = ZipFile('EEGs_Guinea-Bissau.zip')\n",
        "data.extractall()"
      ],
      "metadata": {
        "id": "EREN4IjUUnmm"
      },
      "execution_count": 3,
      "outputs": []
    },
    {
      "cell_type": "markdown",
      "source": [
        "# Read data"
      ],
      "metadata": {
        "id": "pZ3JhqMAPWFe"
      }
    },
    {
      "cell_type": "code",
      "source": [
        "import pandas as pd\n",
        "import numpy as np\n",
        "from matplotlib import pyplot as plt"
      ],
      "metadata": {
        "id": "CYqLPWjrU1pj"
      },
      "execution_count": 4,
      "outputs": []
    },
    {
      "cell_type": "code",
      "source": [
        "meta_df=pd.read_csv('https://zenodo.org/record/1252141/files/metadata_guineabissau.csv')\n",
        "meta_df.head()"
      ],
      "metadata": {
        "colab": {
          "base_uri": "https://localhost:8080/",
          "height": 206
        },
        "id": "wsBVGx60VDbY",
        "outputId": "6b5060c5-55c3-40c1-de2a-8032d19f6f5e"
      },
      "execution_count": 5,
      "outputs": [
        {
          "output_type": "execute_result",
          "data": {
            "text/plain": [
              "   subject.id     Group              Eyes.condition  \\\n",
              "0           1  Epilepsy  closed-3min-then-open-2min   \n",
              "1           2   Control  open-3min-then-closed-2min   \n",
              "2           3  Epilepsy  closed-3min-then-open-2min   \n",
              "3           4  Epilepsy  closed-3min-then-open-2min   \n",
              "4           5   Control  closed-3min-then-open-2min   \n",
              "\n",
              "                                       Remarks  recordedPeriod  \\\n",
              "0                 by 45s reposition electrodes             301   \n",
              "1                                          NaN             309   \n",
              "2                                          NaN             309   \n",
              "3  Green lights not shown, but good EEG traces             299   \n",
              "4                                          NaN             302   \n",
              "\n",
              "         startTime  \n",
              "0  27/5/2020 14:33  \n",
              "1  26/5/2020 22:44  \n",
              "2  27/5/2020 14:26  \n",
              "3  27/5/2020 15:23  \n",
              "4  23/5/2020 19:09  "
            ],
            "text/html": [
              "\n",
              "  <div id=\"df-28b6a3f3-6b3d-4860-922e-d5add1e6ded0\">\n",
              "    <div class=\"colab-df-container\">\n",
              "      <div>\n",
              "<style scoped>\n",
              "    .dataframe tbody tr th:only-of-type {\n",
              "        vertical-align: middle;\n",
              "    }\n",
              "\n",
              "    .dataframe tbody tr th {\n",
              "        vertical-align: top;\n",
              "    }\n",
              "\n",
              "    .dataframe thead th {\n",
              "        text-align: right;\n",
              "    }\n",
              "</style>\n",
              "<table border=\"1\" class=\"dataframe\">\n",
              "  <thead>\n",
              "    <tr style=\"text-align: right;\">\n",
              "      <th></th>\n",
              "      <th>subject.id</th>\n",
              "      <th>Group</th>\n",
              "      <th>Eyes.condition</th>\n",
              "      <th>Remarks</th>\n",
              "      <th>recordedPeriod</th>\n",
              "      <th>startTime</th>\n",
              "    </tr>\n",
              "  </thead>\n",
              "  <tbody>\n",
              "    <tr>\n",
              "      <th>0</th>\n",
              "      <td>1</td>\n",
              "      <td>Epilepsy</td>\n",
              "      <td>closed-3min-then-open-2min</td>\n",
              "      <td>by 45s reposition electrodes</td>\n",
              "      <td>301</td>\n",
              "      <td>27/5/2020 14:33</td>\n",
              "    </tr>\n",
              "    <tr>\n",
              "      <th>1</th>\n",
              "      <td>2</td>\n",
              "      <td>Control</td>\n",
              "      <td>open-3min-then-closed-2min</td>\n",
              "      <td>NaN</td>\n",
              "      <td>309</td>\n",
              "      <td>26/5/2020 22:44</td>\n",
              "    </tr>\n",
              "    <tr>\n",
              "      <th>2</th>\n",
              "      <td>3</td>\n",
              "      <td>Epilepsy</td>\n",
              "      <td>closed-3min-then-open-2min</td>\n",
              "      <td>NaN</td>\n",
              "      <td>309</td>\n",
              "      <td>27/5/2020 14:26</td>\n",
              "    </tr>\n",
              "    <tr>\n",
              "      <th>3</th>\n",
              "      <td>4</td>\n",
              "      <td>Epilepsy</td>\n",
              "      <td>closed-3min-then-open-2min</td>\n",
              "      <td>Green lights not shown, but good EEG traces</td>\n",
              "      <td>299</td>\n",
              "      <td>27/5/2020 15:23</td>\n",
              "    </tr>\n",
              "    <tr>\n",
              "      <th>4</th>\n",
              "      <td>5</td>\n",
              "      <td>Control</td>\n",
              "      <td>closed-3min-then-open-2min</td>\n",
              "      <td>NaN</td>\n",
              "      <td>302</td>\n",
              "      <td>23/5/2020 19:09</td>\n",
              "    </tr>\n",
              "  </tbody>\n",
              "</table>\n",
              "</div>\n",
              "      <button class=\"colab-df-convert\" onclick=\"convertToInteractive('df-28b6a3f3-6b3d-4860-922e-d5add1e6ded0')\"\n",
              "              title=\"Convert this dataframe to an interactive table.\"\n",
              "              style=\"display:none;\">\n",
              "        \n",
              "  <svg xmlns=\"http://www.w3.org/2000/svg\" height=\"24px\"viewBox=\"0 0 24 24\"\n",
              "       width=\"24px\">\n",
              "    <path d=\"M0 0h24v24H0V0z\" fill=\"none\"/>\n",
              "    <path d=\"M18.56 5.44l.94 2.06.94-2.06 2.06-.94-2.06-.94-.94-2.06-.94 2.06-2.06.94zm-11 1L8.5 8.5l.94-2.06 2.06-.94-2.06-.94L8.5 2.5l-.94 2.06-2.06.94zm10 10l.94 2.06.94-2.06 2.06-.94-2.06-.94-.94-2.06-.94 2.06-2.06.94z\"/><path d=\"M17.41 7.96l-1.37-1.37c-.4-.4-.92-.59-1.43-.59-.52 0-1.04.2-1.43.59L10.3 9.45l-7.72 7.72c-.78.78-.78 2.05 0 2.83L4 21.41c.39.39.9.59 1.41.59.51 0 1.02-.2 1.41-.59l7.78-7.78 2.81-2.81c.8-.78.8-2.07 0-2.86zM5.41 20L4 18.59l7.72-7.72 1.47 1.35L5.41 20z\"/>\n",
              "  </svg>\n",
              "      </button>\n",
              "      \n",
              "  <style>\n",
              "    .colab-df-container {\n",
              "      display:flex;\n",
              "      flex-wrap:wrap;\n",
              "      gap: 12px;\n",
              "    }\n",
              "\n",
              "    .colab-df-convert {\n",
              "      background-color: #E8F0FE;\n",
              "      border: none;\n",
              "      border-radius: 50%;\n",
              "      cursor: pointer;\n",
              "      display: none;\n",
              "      fill: #1967D2;\n",
              "      height: 32px;\n",
              "      padding: 0 0 0 0;\n",
              "      width: 32px;\n",
              "    }\n",
              "\n",
              "    .colab-df-convert:hover {\n",
              "      background-color: #E2EBFA;\n",
              "      box-shadow: 0px 1px 2px rgba(60, 64, 67, 0.3), 0px 1px 3px 1px rgba(60, 64, 67, 0.15);\n",
              "      fill: #174EA6;\n",
              "    }\n",
              "\n",
              "    [theme=dark] .colab-df-convert {\n",
              "      background-color: #3B4455;\n",
              "      fill: #D2E3FC;\n",
              "    }\n",
              "\n",
              "    [theme=dark] .colab-df-convert:hover {\n",
              "      background-color: #434B5C;\n",
              "      box-shadow: 0px 1px 3px 1px rgba(0, 0, 0, 0.15);\n",
              "      filter: drop-shadow(0px 1px 2px rgba(0, 0, 0, 0.3));\n",
              "      fill: #FFFFFF;\n",
              "    }\n",
              "  </style>\n",
              "\n",
              "      <script>\n",
              "        const buttonEl =\n",
              "          document.querySelector('#df-28b6a3f3-6b3d-4860-922e-d5add1e6ded0 button.colab-df-convert');\n",
              "        buttonEl.style.display =\n",
              "          google.colab.kernel.accessAllowed ? 'block' : 'none';\n",
              "\n",
              "        async function convertToInteractive(key) {\n",
              "          const element = document.querySelector('#df-28b6a3f3-6b3d-4860-922e-d5add1e6ded0');\n",
              "          const dataTable =\n",
              "            await google.colab.kernel.invokeFunction('convertToInteractive',\n",
              "                                                     [key], {});\n",
              "          if (!dataTable) return;\n",
              "\n",
              "          const docLinkHtml = 'Like what you see? Visit the ' +\n",
              "            '<a target=\"_blank\" href=https://colab.research.google.com/notebooks/data_table.ipynb>data table notebook</a>'\n",
              "            + ' to learn more about interactive tables.';\n",
              "          element.innerHTML = '';\n",
              "          dataTable['output_type'] = 'display_data';\n",
              "          await google.colab.output.renderOutput(dataTable, element);\n",
              "          const docLink = document.createElement('div');\n",
              "          docLink.innerHTML = docLinkHtml;\n",
              "          element.appendChild(docLink);\n",
              "        }\n",
              "      </script>\n",
              "    </div>\n",
              "  </div>\n",
              "  "
            ]
          },
          "metadata": {},
          "execution_count": 5
        }
      ]
    },
    {
      "cell_type": "code",
      "source": [
        "#now i need to seprate Epilepsy vs Control subjects\n",
        "EP_sub=meta_df['subject.id'][meta_df['Group']=='Epilepsy']\n",
        "CT_sub=meta_df['subject.id'][meta_df['Group']=='Control']\n",
        "\n"
      ],
      "metadata": {
        "id": "pRRIxnflVJAT"
      },
      "execution_count": 6,
      "outputs": []
    },
    {
      "cell_type": "code",
      "source": [
        "#read csv files\n",
        "Epilepsy=[pd.read_csv('EEGs_Guinea-Bissau/signal-{}.csv.gz'.format(i), compression='gzip') for i in  EP_sub]\n",
        "Control=[pd.read_csv('EEGs_Guinea-Bissau/signal-{}.csv.gz'.format(i), compression='gzip') for i in  CT_sub]"
      ],
      "metadata": {
        "id": "0HkJWxjtVgF9"
      },
      "execution_count": 7,
      "outputs": []
    },
    {
      "cell_type": "code",
      "source": [
        "Epilepsy[0].head()"
      ],
      "metadata": {
        "colab": {
          "base_uri": "https://localhost:8080/",
          "height": 317
        },
        "id": "C06Vw5PaVwS4",
        "outputId": "ada2c458-e61a-473c-d3db-bb6aa883b037"
      },
      "execution_count": 8,
      "outputs": [
        {
          "output_type": "execute_result",
          "data": {
            "text/plain": [
              "   Unnamed: 0          AF3          AF4           F3           F4  \\\n",
              "0           1  4426.153846  3994.871795  4408.205128  3847.692308   \n",
              "1           2  4420.512821  3986.666667  4394.358974  3836.923077   \n",
              "2           3  4413.846154  3986.153846  4386.666667  3831.794872   \n",
              "3           4  4407.692308  3984.615385  4384.102564  3832.820513   \n",
              "4           5  4407.179487  3978.974359  4382.564103  3832.307692   \n",
              "\n",
              "            F7           F8          FC5          FC6           O1  ...  \\\n",
              "0  4690.256410  3895.897436  4702.051282  3914.871795  4049.743590  ...   \n",
              "1  4678.461538  3886.666667  4696.410256  3910.769231  4054.358974  ...   \n",
              "2  4654.871795  3881.025641  4690.769231  3908.205128  4066.666667  ...   \n",
              "3  4644.615385  3883.076923  4686.153846  3910.256410  4063.076923  ...   \n",
              "4  4647.692308  3878.974359  4685.641026  3903.076923  4057.948718  ...   \n",
              "\n",
              "   CQ_F3  CQ_P7  CQ_P8  CQ_F4  CQ_AF3  CQ_FC5  CQ_O1  CQ_T8  CQ_F8  CQ_DRL  \n",
              "0      4      4      4      4       4       4      4      4      4       4  \n",
              "1      4      4      4      4       4       4      4      4      4       4  \n",
              "2      4      4      4      4       4       4      4      4      4       4  \n",
              "3      4      4      4      4       4       4      4      4      4       4  \n",
              "4      4      4      4      4       4       4      4      4      4       4  \n",
              "\n",
              "[5 rows x 36 columns]"
            ],
            "text/html": [
              "\n",
              "  <div id=\"df-749f5683-8db5-46c6-8b4b-4ab885dfd190\">\n",
              "    <div class=\"colab-df-container\">\n",
              "      <div>\n",
              "<style scoped>\n",
              "    .dataframe tbody tr th:only-of-type {\n",
              "        vertical-align: middle;\n",
              "    }\n",
              "\n",
              "    .dataframe tbody tr th {\n",
              "        vertical-align: top;\n",
              "    }\n",
              "\n",
              "    .dataframe thead th {\n",
              "        text-align: right;\n",
              "    }\n",
              "</style>\n",
              "<table border=\"1\" class=\"dataframe\">\n",
              "  <thead>\n",
              "    <tr style=\"text-align: right;\">\n",
              "      <th></th>\n",
              "      <th>Unnamed: 0</th>\n",
              "      <th>AF3</th>\n",
              "      <th>AF4</th>\n",
              "      <th>F3</th>\n",
              "      <th>F4</th>\n",
              "      <th>F7</th>\n",
              "      <th>F8</th>\n",
              "      <th>FC5</th>\n",
              "      <th>FC6</th>\n",
              "      <th>O1</th>\n",
              "      <th>...</th>\n",
              "      <th>CQ_F3</th>\n",
              "      <th>CQ_P7</th>\n",
              "      <th>CQ_P8</th>\n",
              "      <th>CQ_F4</th>\n",
              "      <th>CQ_AF3</th>\n",
              "      <th>CQ_FC5</th>\n",
              "      <th>CQ_O1</th>\n",
              "      <th>CQ_T8</th>\n",
              "      <th>CQ_F8</th>\n",
              "      <th>CQ_DRL</th>\n",
              "    </tr>\n",
              "  </thead>\n",
              "  <tbody>\n",
              "    <tr>\n",
              "      <th>0</th>\n",
              "      <td>1</td>\n",
              "      <td>4426.153846</td>\n",
              "      <td>3994.871795</td>\n",
              "      <td>4408.205128</td>\n",
              "      <td>3847.692308</td>\n",
              "      <td>4690.256410</td>\n",
              "      <td>3895.897436</td>\n",
              "      <td>4702.051282</td>\n",
              "      <td>3914.871795</td>\n",
              "      <td>4049.743590</td>\n",
              "      <td>...</td>\n",
              "      <td>4</td>\n",
              "      <td>4</td>\n",
              "      <td>4</td>\n",
              "      <td>4</td>\n",
              "      <td>4</td>\n",
              "      <td>4</td>\n",
              "      <td>4</td>\n",
              "      <td>4</td>\n",
              "      <td>4</td>\n",
              "      <td>4</td>\n",
              "    </tr>\n",
              "    <tr>\n",
              "      <th>1</th>\n",
              "      <td>2</td>\n",
              "      <td>4420.512821</td>\n",
              "      <td>3986.666667</td>\n",
              "      <td>4394.358974</td>\n",
              "      <td>3836.923077</td>\n",
              "      <td>4678.461538</td>\n",
              "      <td>3886.666667</td>\n",
              "      <td>4696.410256</td>\n",
              "      <td>3910.769231</td>\n",
              "      <td>4054.358974</td>\n",
              "      <td>...</td>\n",
              "      <td>4</td>\n",
              "      <td>4</td>\n",
              "      <td>4</td>\n",
              "      <td>4</td>\n",
              "      <td>4</td>\n",
              "      <td>4</td>\n",
              "      <td>4</td>\n",
              "      <td>4</td>\n",
              "      <td>4</td>\n",
              "      <td>4</td>\n",
              "    </tr>\n",
              "    <tr>\n",
              "      <th>2</th>\n",
              "      <td>3</td>\n",
              "      <td>4413.846154</td>\n",
              "      <td>3986.153846</td>\n",
              "      <td>4386.666667</td>\n",
              "      <td>3831.794872</td>\n",
              "      <td>4654.871795</td>\n",
              "      <td>3881.025641</td>\n",
              "      <td>4690.769231</td>\n",
              "      <td>3908.205128</td>\n",
              "      <td>4066.666667</td>\n",
              "      <td>...</td>\n",
              "      <td>4</td>\n",
              "      <td>4</td>\n",
              "      <td>4</td>\n",
              "      <td>4</td>\n",
              "      <td>4</td>\n",
              "      <td>4</td>\n",
              "      <td>4</td>\n",
              "      <td>4</td>\n",
              "      <td>4</td>\n",
              "      <td>4</td>\n",
              "    </tr>\n",
              "    <tr>\n",
              "      <th>3</th>\n",
              "      <td>4</td>\n",
              "      <td>4407.692308</td>\n",
              "      <td>3984.615385</td>\n",
              "      <td>4384.102564</td>\n",
              "      <td>3832.820513</td>\n",
              "      <td>4644.615385</td>\n",
              "      <td>3883.076923</td>\n",
              "      <td>4686.153846</td>\n",
              "      <td>3910.256410</td>\n",
              "      <td>4063.076923</td>\n",
              "      <td>...</td>\n",
              "      <td>4</td>\n",
              "      <td>4</td>\n",
              "      <td>4</td>\n",
              "      <td>4</td>\n",
              "      <td>4</td>\n",
              "      <td>4</td>\n",
              "      <td>4</td>\n",
              "      <td>4</td>\n",
              "      <td>4</td>\n",
              "      <td>4</td>\n",
              "    </tr>\n",
              "    <tr>\n",
              "      <th>4</th>\n",
              "      <td>5</td>\n",
              "      <td>4407.179487</td>\n",
              "      <td>3978.974359</td>\n",
              "      <td>4382.564103</td>\n",
              "      <td>3832.307692</td>\n",
              "      <td>4647.692308</td>\n",
              "      <td>3878.974359</td>\n",
              "      <td>4685.641026</td>\n",
              "      <td>3903.076923</td>\n",
              "      <td>4057.948718</td>\n",
              "      <td>...</td>\n",
              "      <td>4</td>\n",
              "      <td>4</td>\n",
              "      <td>4</td>\n",
              "      <td>4</td>\n",
              "      <td>4</td>\n",
              "      <td>4</td>\n",
              "      <td>4</td>\n",
              "      <td>4</td>\n",
              "      <td>4</td>\n",
              "      <td>4</td>\n",
              "    </tr>\n",
              "  </tbody>\n",
              "</table>\n",
              "<p>5 rows × 36 columns</p>\n",
              "</div>\n",
              "      <button class=\"colab-df-convert\" onclick=\"convertToInteractive('df-749f5683-8db5-46c6-8b4b-4ab885dfd190')\"\n",
              "              title=\"Convert this dataframe to an interactive table.\"\n",
              "              style=\"display:none;\">\n",
              "        \n",
              "  <svg xmlns=\"http://www.w3.org/2000/svg\" height=\"24px\"viewBox=\"0 0 24 24\"\n",
              "       width=\"24px\">\n",
              "    <path d=\"M0 0h24v24H0V0z\" fill=\"none\"/>\n",
              "    <path d=\"M18.56 5.44l.94 2.06.94-2.06 2.06-.94-2.06-.94-.94-2.06-.94 2.06-2.06.94zm-11 1L8.5 8.5l.94-2.06 2.06-.94-2.06-.94L8.5 2.5l-.94 2.06-2.06.94zm10 10l.94 2.06.94-2.06 2.06-.94-2.06-.94-.94-2.06-.94 2.06-2.06.94z\"/><path d=\"M17.41 7.96l-1.37-1.37c-.4-.4-.92-.59-1.43-.59-.52 0-1.04.2-1.43.59L10.3 9.45l-7.72 7.72c-.78.78-.78 2.05 0 2.83L4 21.41c.39.39.9.59 1.41.59.51 0 1.02-.2 1.41-.59l7.78-7.78 2.81-2.81c.8-.78.8-2.07 0-2.86zM5.41 20L4 18.59l7.72-7.72 1.47 1.35L5.41 20z\"/>\n",
              "  </svg>\n",
              "      </button>\n",
              "      \n",
              "  <style>\n",
              "    .colab-df-container {\n",
              "      display:flex;\n",
              "      flex-wrap:wrap;\n",
              "      gap: 12px;\n",
              "    }\n",
              "\n",
              "    .colab-df-convert {\n",
              "      background-color: #E8F0FE;\n",
              "      border: none;\n",
              "      border-radius: 50%;\n",
              "      cursor: pointer;\n",
              "      display: none;\n",
              "      fill: #1967D2;\n",
              "      height: 32px;\n",
              "      padding: 0 0 0 0;\n",
              "      width: 32px;\n",
              "    }\n",
              "\n",
              "    .colab-df-convert:hover {\n",
              "      background-color: #E2EBFA;\n",
              "      box-shadow: 0px 1px 2px rgba(60, 64, 67, 0.3), 0px 1px 3px 1px rgba(60, 64, 67, 0.15);\n",
              "      fill: #174EA6;\n",
              "    }\n",
              "\n",
              "    [theme=dark] .colab-df-convert {\n",
              "      background-color: #3B4455;\n",
              "      fill: #D2E3FC;\n",
              "    }\n",
              "\n",
              "    [theme=dark] .colab-df-convert:hover {\n",
              "      background-color: #434B5C;\n",
              "      box-shadow: 0px 1px 3px 1px rgba(0, 0, 0, 0.15);\n",
              "      filter: drop-shadow(0px 1px 2px rgba(0, 0, 0, 0.3));\n",
              "      fill: #FFFFFF;\n",
              "    }\n",
              "  </style>\n",
              "\n",
              "      <script>\n",
              "        const buttonEl =\n",
              "          document.querySelector('#df-749f5683-8db5-46c6-8b4b-4ab885dfd190 button.colab-df-convert');\n",
              "        buttonEl.style.display =\n",
              "          google.colab.kernel.accessAllowed ? 'block' : 'none';\n",
              "\n",
              "        async function convertToInteractive(key) {\n",
              "          const element = document.querySelector('#df-749f5683-8db5-46c6-8b4b-4ab885dfd190');\n",
              "          const dataTable =\n",
              "            await google.colab.kernel.invokeFunction('convertToInteractive',\n",
              "                                                     [key], {});\n",
              "          if (!dataTable) return;\n",
              "\n",
              "          const docLinkHtml = 'Like what you see? Visit the ' +\n",
              "            '<a target=\"_blank\" href=https://colab.research.google.com/notebooks/data_table.ipynb>data table notebook</a>'\n",
              "            + ' to learn more about interactive tables.';\n",
              "          element.innerHTML = '';\n",
              "          dataTable['output_type'] = 'display_data';\n",
              "          await google.colab.output.renderOutput(dataTable, element);\n",
              "          const docLink = document.createElement('div');\n",
              "          docLink.innerHTML = docLinkHtml;\n",
              "          element.appendChild(docLink);\n",
              "        }\n",
              "      </script>\n",
              "    </div>\n",
              "  </div>\n",
              "  "
            ]
          },
          "metadata": {},
          "execution_count": 8
        }
      ]
    },
    {
      "cell_type": "code",
      "source": [
        "#remove non eeg channels\n",
        "Epilepsy=[i.iloc[:,1:15] for i in  Epilepsy]\n",
        "Control=[i.iloc[:,1:15] for i in  Control]"
      ],
      "metadata": {
        "id": "aq6cOHyVWJ0-"
      },
      "execution_count": 9,
      "outputs": []
    },
    {
      "cell_type": "markdown",
      "source": [
        "# Convert to MNE object"
      ],
      "metadata": {
        "id": "QOcnawOcPYt7"
      }
    },
    {
      "cell_type": "code",
      "source": [
        "import mne\n",
        "def convertDF2MNE(sub):\n",
        "    info = mne.create_info(list(sub.columns), ch_types=['eeg'] * len(sub.columns), sfreq=128)\n",
        "    info.set_montage('standard_1020')\n",
        "    data=mne.io.RawArray(sub.T, info)\n",
        "    data.set_eeg_reference()\n",
        "    data.filter(l_freq=0.1,h_freq=45)\n",
        "    epochs=mne.make_fixed_length_epochs(data,duration=5,overlap=1)\n",
        "    epochs=epochs.drop_bad()\n",
        "    \n",
        "    return epochs"
      ],
      "metadata": {
        "id": "nNnQ8nZVWVkF"
      },
      "execution_count": 10,
      "outputs": []
    },
    {
      "cell_type": "code",
      "source": [
        "%%capture\n",
        "#Convert each dataframe to mne object\n",
        "Epilepsy=[convertDF2MNE(i) for i in  Epilepsy]\n",
        "Control=[convertDF2MNE(i) for i in  Control]"
      ],
      "metadata": {
        "id": "1a-tFpz6XaW3"
      },
      "execution_count": 11,
      "outputs": []
    },
    {
      "cell_type": "code",
      "source": [
        "%%capture\n",
        "#concatenate the epochs\n",
        "Epilepsy_epochs=mne.concatenate_epochs(Epilepsy)\n",
        "Control_epochs=mne.concatenate_epochs(Control)\n"
      ],
      "metadata": {
        "id": "isk-LSSLBEhj"
      },
      "execution_count": 12,
      "outputs": []
    },
    {
      "cell_type": "markdown",
      "source": [
        "# Create labels and groups"
      ],
      "metadata": {
        "id": "4B4R_ltbPcuT"
      }
    },
    {
      "cell_type": "code",
      "source": [
        "Epilepsy_group=np.concatenate([[i]*len(Epilepsy[i]) for i in range(len(Epilepsy))])#create a list of list where each sub list corresponds to subject_no\n",
        "Control_group=np.concatenate([[i]*len(Control[i]) for i in range(len(Control))])#create a list of list where each sub list corresponds to subject_no\n",
        "\n",
        "Epilepsy_label=np.concatenate([[0]*len(Epilepsy[i]) for i in range(len(Epilepsy))])\n",
        "Control_label=np.concatenate([[1]*len(Control[i]) for i in range(len(Control))])"
      ],
      "metadata": {
        "id": "FDzPSY159zq5"
      },
      "execution_count": 13,
      "outputs": []
    },
    {
      "cell_type": "code",
      "source": [
        "Epilepsy_group.shape,Control_group.shape,Epilepsy_label.shape,Control_label.shape"
      ],
      "metadata": {
        "colab": {
          "base_uri": "https://localhost:8080/"
        },
        "id": "tMDKoBnBAOqH",
        "outputId": "89242c45-1d2b-4c9d-8ce3-f3f840f01551"
      },
      "execution_count": 14,
      "outputs": [
        {
          "output_type": "execute_result",
          "data": {
            "text/plain": [
              "((3995,), (3461,), (3995,), (3461,))"
            ]
          },
          "metadata": {},
          "execution_count": 14
        }
      ]
    },
    {
      "cell_type": "code",
      "source": [
        "#combine data\n",
        "data=mne.concatenate_epochs([Epilepsy_epochs,Control_epochs])\n",
        "group=np.concatenate((Epilepsy_group,Control_group))\n",
        "label=np.concatenate((Epilepsy_label,Control_label))\n",
        "print(len(data),len(group),len(label))"
      ],
      "metadata": {
        "colab": {
          "base_uri": "https://localhost:8080/"
        },
        "id": "0qpTA318CONT",
        "outputId": "d97e5548-ab3f-4d54-e5b3-2a8057378c4e"
      },
      "execution_count": 15,
      "outputs": [
        {
          "output_type": "stream",
          "name": "stdout",
          "text": [
            "Not setting metadata\n",
            "7456 matching events found\n",
            "No baseline correction applied\n",
            "7456 7456 7456\n"
          ]
        }
      ]
    },
    {
      "cell_type": "markdown",
      "source": [
        "# Feature Extraction - Power spectral density\n",
        "The power spectral density of a signal is a measure of how much power the signal has at each different frequency. The power spectral density (power spectrum) reflects the ‘frequency content’ of the signal or the distribution of signal power over frequency.  \n"
      ],
      "metadata": {
        "id": "SnjeFhVltiRR"
      }
    },
    {
      "cell_type": "code",
      "source": [
        "# source: https://mne.tools/stable/auto_tutorials/clinical/60_sleep.html#sphx-glr-auto-tutorials-clinical-60-sleep-py\n",
        "def eeg_power_band(epochs):\n",
        "    \"\"\"EEG relative power band feature extraction.\n",
        "\n",
        "    This function takes an ``mne.Epochs`` object and creates EEG features based\n",
        "    on relative power in specific frequency bands that are compatible with\n",
        "    scikit-learn.\n",
        "\n",
        "    Parameters\n",
        "    ----------\n",
        "    epochs : Epochs\n",
        "        The data.\n",
        "\n",
        "    Returns\n",
        "    -------\n",
        "    X : numpy array of shape [n_samples, 5]\n",
        "        Transformed data.\n",
        "    \"\"\"\n",
        "    # specific frequency bands\n",
        "    FREQ_BANDS = {\"delta\": [0.5, 4.5],\n",
        "                  \"theta\": [4.5, 8.5],\n",
        "                  \"alpha\": [8.5, 11.5],\n",
        "                  \"sigma\": [11.5, 15.5],\n",
        "                  \"beta\": [15.5, 30],\n",
        "                  \"gamma\": [30, 45],\n",
        "                  }\n",
        "\n",
        "    spectrum = epochs.compute_psd(picks='eeg', fmin=0.5, fmax=30.)\n",
        "    psds, freqs = spectrum.get_data(return_freqs=True)\n",
        "    # Normalize the PSDs\n",
        "    psds /= np.sum(psds, axis=-1, keepdims=True)\n",
        "\n",
        "    X = []\n",
        "    for fmin, fmax in FREQ_BANDS.values():\n",
        "        psds_band = psds[:, :, (freqs >= fmin) & (freqs < fmax)].mean(axis=-1)\n",
        "        X.append(psds_band.reshape(len(psds), -1))\n",
        "\n",
        "    return np.concatenate(X, axis=1)#Concatenate the mean PSDs for each band into a single feature vector"
      ],
      "metadata": {
        "id": "dhK4vRC4n-4c"
      },
      "execution_count": 26,
      "outputs": []
    },
    {
      "cell_type": "markdown",
      "source": [
        "# Classification 5-fold"
      ],
      "metadata": {
        "id": "0bAKzjyKPh7u"
      }
    },
    {
      "cell_type": "code",
      "source": [
        "from sklearn.ensemble import RandomForestClassifier\n",
        "from sklearn.model_selection import cross_val_score"
      ],
      "metadata": {
        "id": "dtbouUjgrDbi"
      },
      "execution_count": 24,
      "outputs": []
    },
    {
      "cell_type": "code",
      "source": [
        "%%capture\n",
        "features=[]\n",
        "for d in range(len(data)):#get features from each epoch and save in a list\n",
        "  features.append(eeg_power_band(data[d]))"
      ],
      "metadata": {
        "id": "8PsOWqLaKn6K"
      },
      "execution_count": 27,
      "outputs": []
    },
    {
      "cell_type": "code",
      "source": [
        "#convert list to array\n",
        "features=np.concatenate(features)\n",
        "features.shape"
      ],
      "metadata": {
        "colab": {
          "base_uri": "https://localhost:8080/"
        },
        "id": "m59hZOOWM01E",
        "outputId": "94fd6f9e-a430-4537-aa11-30498750f814"
      },
      "execution_count": 28,
      "outputs": [
        {
          "output_type": "execute_result",
          "data": {
            "text/plain": [
              "(7456, 84)"
            ]
          },
          "metadata": {},
          "execution_count": 28
        }
      ]
    },
    {
      "cell_type": "code",
      "source": [
        "#do 5 fold cross validation\n",
        "clf=RandomForestClassifier()\n",
        "accuracies=cross_val_score(clf, features,label,groups=group,cv=5)\n",
        "print('Five fold accuracies',accuracies)\n",
        "print('Average accuracy',np.mean(accuracies))"
      ],
      "metadata": {
        "id": "UwOOeONDranq",
        "colab": {
          "base_uri": "https://localhost:8080/"
        },
        "outputId": "3098e923-6c7d-4cb9-93f4-1d363bfa6f00"
      },
      "execution_count": 29,
      "outputs": [
        {
          "output_type": "stream",
          "name": "stdout",
          "text": [
            "Five fold accuracies [0.69839142 0.69550637 0.64788732 0.74647887 0.73172368]\n",
            "Average accuracy 0.7039975330085967\n"
          ]
        }
      ]
    },
    {
      "cell_type": "markdown",
      "source": [
        "# Tips to improve it further\n",
        "1. Try different classifier\n",
        "2. try tuning the parameters of classifiers\n",
        "3. Try feature elimination "
      ],
      "metadata": {
        "id": "eHVFF_cmPBMu"
      }
    }
  ]
}